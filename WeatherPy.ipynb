{
 "cells": [
  {
   "cell_type": "markdown",
   "metadata": {},
   "source": [
    "# WeatherPy\n",
    "----\n",
    "\n",
    "#### Note\n",
    "* Instructions have been included for each segment. You do not have to follow them exactly, but they are included to help you think through the steps.\n",
    "\n",
    "\n",
    "## Three observable trends based on the data include the following:\n",
    "\n",
    "As expected, temperature increases the closer to the equator. \n",
    "\n",
    "Per the Latitude vs. Max Temperature Plot, the maximum temperature stays consistent and at a maximum from -25 degrees to 25 degrees latitude.\n",
    "\n",
    "\n",
    "The Latitude vs. Wind Speed Plot shows that there is slight increase of wind speed when moving away from the equator. It is extremely subtle.Per the plots below, Humidity and Cloudiness do not demonstrate a strong correlation to latitude.\n",
    "\n",
    "\n",
    "\n"
   ]
  },
  {
   "cell_type": "code",
   "execution_count": 40,
   "metadata": {
    "scrolled": true
   },
   "outputs": [],
   "source": [
    "# Dependencies and Setup\n",
    "import matplotlib.pyplot as plt\n",
    "import pandas as pd\n",
    "import numpy as np\n",
    "import requests\n",
    "import time\n",
    "from scipy.stats import linregress\n",
    "import os\n",
    "from dotenv import load_dotenv\n",
    "import gmaps\n",
    "import seaborn as sns\n",
    "\n",
    "# Import API key\n",
    "# Load .env enviroment variables into the notebook\n",
    "load_dotenv()\n",
    "# Get the API key from the environment variable and store as Python variable\n",
    "open_weather_api_key = os.getenv(\"open_weather_api_key\")\n",
    "google_api_key = os.getenv(\"google_api_key\")\n",
    "\n",
    "# Access maps with unique API key\n",
    "gmaps.configure(api_key=google_api_key)\n",
    "\n",
    "# Incorporated citipy to determine city based on latitude and longitude\n",
    "from citipy import citipy\n",
    "\n",
    "# Output File (CSV)\n",
    "output_data_file = \"output_data/cities.csv\"\n",
    "\n",
    "# Range of latitudes and longitudes\n",
    "lat_range = (-90, 90)\n",
    "lng_range = (-180, 180)\n",
    "\n"
   ]
  },
  {
   "cell_type": "markdown",
   "metadata": {},
   "source": [
    "## Generate Cities List"
   ]
  },
  {
   "cell_type": "code",
   "execution_count": 2,
   "metadata": {},
   "outputs": [
    {
     "data": {
      "text/plain": [
       "606"
      ]
     },
     "execution_count": 2,
     "metadata": {},
     "output_type": "execute_result"
    }
   ],
   "source": [
    "# List for holding lat_lngs and cities\n",
    "lat_lngs = []\n",
    "cities = []\n",
    "\n",
    "# Create a set of random lat and lng combinations\n",
    "lats = np.random.uniform(lat_range[0], lat_range[1], size=1500)\n",
    "lngs = np.random.uniform(lng_range[0], lng_range[1], size=1500)\n",
    "lat_lngs = zip(lats, lngs)\n",
    "\n",
    "# Identify nearest city for each lat, lng combination\n",
    "for lat_lng in lat_lngs:\n",
    "    city = citipy.nearest_city(lat_lng[0], lat_lng[1]).city_name\n",
    "    \n",
    "    # If the city is unique, then add it to a our cities list\n",
    "    if city not in cities:\n",
    "        cities.append(city)\n",
    "\n",
    "# Print the city count to confirm sufficient count\n",
    "len(cities)"
   ]
  },
  {
   "cell_type": "markdown",
   "metadata": {},
   "source": [
    "### Perform API Calls\n",
    "* Perform a weather check on each city using a series of successive API calls.\n",
    "* Include a print log of each city as it'sbeing processed (with the city number and city name).\n"
   ]
  },
  {
   "cell_type": "code",
   "execution_count": 3,
   "metadata": {
    "scrolled": true
   },
   "outputs": [
    {
     "name": "stdout",
     "output_type": "stream",
     "text": [
      "Beginning Data Retrieval \n",
      "-----------------------------\n",
      "Processing Record 1 of Set 1 : busselton\n",
      "Processing Record 2 of Set 1 : cape town\n",
      "Processing Record 3 of Set 1 : nikolskoye\n",
      "Processing Record 4 of Set 1 : chuy\n",
      "Processing Record 5 of Set 1 : hilo\n",
      "Processing Record 6 of Set 1 : bethel\n",
      "Processing Record 7 of Set 1 : saint george\n",
      "Processing Record 8 of Set 1 : esperance\n",
      "Processing Record 9 of Set 1 : punta arenas\n",
      "Processing Record 10 of Set 1 : ostrovnoy\n",
      "City not found. Skipping...\n",
      "Processing Record 11 of Set 1 : dikson\n",
      "City not found. Skipping...\n",
      "Processing Record 12 of Set 1 : beidao\n",
      "City not found. Skipping...\n",
      "Processing Record 13 of Set 1 : vaini\n",
      "Processing Record 14 of Set 1 : jacksonville\n",
      "Processing Record 15 of Set 1 : yellowknife\n",
      "City not found. Skipping...\n",
      "Processing Record 16 of Set 1 : xuddur\n",
      "Processing Record 17 of Set 1 : cidreira\n",
      "Processing Record 18 of Set 1 : puerto ayora\n",
      "Processing Record 19 of Set 1 : mar del plata\n",
      "Processing Record 20 of Set 1 : hermanus\n",
      "Processing Record 21 of Set 1 : dunedin\n",
      "Processing Record 22 of Set 1 : tasiilaq\n",
      "Processing Record 23 of Set 1 : alofi\n",
      "Processing Record 24 of Set 1 : dingle\n",
      "Processing Record 25 of Set 1 : zhoucheng\n",
      "Processing Record 26 of Set 1 : pakenham\n",
      "Processing Record 27 of Set 1 : kananga\n",
      "Processing Record 28 of Set 1 : ushuaia\n",
      "Processing Record 29 of Set 1 : champerico\n",
      "Processing Record 30 of Set 1 : saryagash\n",
      "Processing Record 31 of Set 1 : buraydah\n",
      "Processing Record 32 of Set 1 : bredasdorp\n",
      "Processing Record 33 of Set 1 : tuktoyaktuk\n",
      "City not found. Skipping...\n",
      "City not found. Skipping...\n",
      "Processing Record 34 of Set 1 : medina\n",
      "Processing Record 35 of Set 1 : barranca\n",
      "Processing Record 36 of Set 1 : upernavik\n",
      "Processing Record 37 of Set 1 : narsaq\n",
      "Processing Record 38 of Set 1 : rikitea\n",
      "Processing Record 39 of Set 1 : provideniya\n",
      "City not found. Skipping...\n",
      "Processing Record 40 of Set 1 : brigantine\n",
      "Processing Record 41 of Set 1 : butaritari\n",
      "Processing Record 42 of Set 1 : sao joao da barra\n",
      "Processing Record 43 of Set 1 : geraldton\n",
      "City not found. Skipping...\n",
      "Processing Record 44 of Set 1 : pangkalanbuun\n",
      "Processing Record 45 of Set 1 : saskylakh\n",
      "Processing Record 46 of Set 1 : pangody\n",
      "Processing Record 47 of Set 1 : san patricio\n",
      "Processing Record 48 of Set 1 : hithadhoo\n",
      "Processing Record 49 of Set 1 : port elizabeth\n",
      "Processing Record 50 of Set 1 : barrow\n",
      "Processing Record 0 of Set 2 : marsaxlokk\n",
      "Processing Record 1 of Set 2 : port alfred\n",
      "City not found. Skipping...\n",
      "Processing Record 2 of Set 2 : gweta\n",
      "Processing Record 3 of Set 2 : gold coast\n",
      "Processing Record 4 of Set 2 : balud\n",
      "Processing Record 5 of Set 2 : mackay\n",
      "Processing Record 6 of Set 2 : roma\n",
      "Processing Record 7 of Set 2 : salcininkai\n",
      "Processing Record 8 of Set 2 : saint-philippe\n",
      "Processing Record 9 of Set 2 : les cayes\n",
      "Processing Record 10 of Set 2 : jamestown\n",
      "Processing Record 11 of Set 2 : hobart\n",
      "Processing Record 12 of Set 2 : vanimo\n",
      "Processing Record 13 of Set 2 : kapaa\n",
      "Processing Record 14 of Set 2 : khani\n",
      "Processing Record 15 of Set 2 : ancud\n",
      "Processing Record 16 of Set 2 : rocha\n",
      "Processing Record 17 of Set 2 : kohat\n",
      "Processing Record 18 of Set 2 : zhigansk\n",
      "Processing Record 19 of Set 2 : udachnyy\n",
      "Processing Record 20 of Set 2 : tigil\n",
      "Processing Record 21 of Set 2 : bluff\n",
      "Processing Record 22 of Set 2 : havre-saint-pierre\n",
      "Processing Record 23 of Set 2 : albany\n",
      "Processing Record 24 of Set 2 : paamiut\n",
      "Processing Record 25 of Set 2 : qaanaaq\n",
      "Processing Record 26 of Set 2 : sobolevo\n",
      "City not found. Skipping...\n",
      "Processing Record 27 of Set 2 : atuona\n",
      "Processing Record 28 of Set 2 : huarmey\n",
      "Processing Record 29 of Set 2 : castro\n",
      "Processing Record 30 of Set 2 : henties bay\n",
      "Processing Record 31 of Set 2 : asfi\n",
      "Processing Record 32 of Set 2 : lavrentiya\n",
      "Processing Record 33 of Set 2 : beringovskiy\n",
      "Processing Record 34 of Set 2 : mataura\n",
      "Processing Record 35 of Set 2 : avarua\n",
      "Processing Record 36 of Set 2 : gibara\n",
      "Processing Record 37 of Set 2 : ponta delgada\n",
      "Processing Record 38 of Set 2 : pevek\n",
      "Processing Record 39 of Set 2 : kodiak\n",
      "Processing Record 40 of Set 2 : sao filipe\n",
      "Processing Record 41 of Set 2 : san policarpo\n",
      "Processing Record 42 of Set 2 : talnakh\n",
      "Processing Record 43 of Set 2 : thompson\n",
      "Processing Record 44 of Set 2 : avera\n",
      "Processing Record 45 of Set 2 : wajid\n",
      "Processing Record 46 of Set 2 : naze\n",
      "Processing Record 47 of Set 2 : antofagasta\n",
      "Processing Record 48 of Set 2 : cherskiy\n",
      "Processing Record 49 of Set 2 : bandundu\n",
      "Processing Record 50 of Set 2 : kotdwara\n",
      "Processing Record 0 of Set 3 : bathsheba\n",
      "Processing Record 1 of Set 3 : gisborne\n",
      "Processing Record 2 of Set 3 : east london\n",
      "Processing Record 3 of Set 3 : yingkou\n",
      "Processing Record 4 of Set 3 : flinders\n",
      "Processing Record 5 of Set 3 : aketi\n",
      "Processing Record 6 of Set 3 : tiksi\n",
      "Processing Record 7 of Set 3 : gravdal\n",
      "Processing Record 8 of Set 3 : mahebourg\n",
      "City not found. Skipping...\n",
      "Processing Record 9 of Set 3 : tiznit\n",
      "Processing Record 10 of Set 3 : rock springs\n",
      "Processing Record 11 of Set 3 : vilyuysk\n",
      "Processing Record 12 of Set 3 : retalhuleu\n",
      "Processing Record 13 of Set 3 : kimbe\n",
      "Processing Record 14 of Set 3 : sigli\n",
      "Processing Record 15 of Set 3 : clyde river\n",
      "Processing Record 16 of Set 3 : aswan\n",
      "Processing Record 17 of Set 3 : tyazhinskiy\n",
      "Processing Record 18 of Set 3 : bodrum\n",
      "Processing Record 19 of Set 3 : batagay-alyta\n",
      "Processing Record 20 of Set 3 : goure\n",
      "Processing Record 21 of Set 3 : nowa sol\n",
      "Processing Record 22 of Set 3 : longyearbyen\n",
      "Processing Record 23 of Set 3 : santa rosa\n",
      "Processing Record 24 of Set 3 : nicolas bravo\n",
      "Processing Record 25 of Set 3 : hasaki\n",
      "City not found. Skipping...\n",
      "Processing Record 26 of Set 3 : kurayoshi\n",
      "Processing Record 27 of Set 3 : natitingou\n",
      "Processing Record 28 of Set 3 : eregli\n",
      "Processing Record 29 of Set 3 : nantucket\n",
      "Processing Record 30 of Set 3 : vila velha\n",
      "Processing Record 31 of Set 3 : sitka\n",
      "Processing Record 32 of Set 3 : fort nelson\n",
      "Processing Record 33 of Set 3 : wageningen\n",
      "Processing Record 34 of Set 3 : bara\n",
      "Processing Record 35 of Set 3 : coihaique\n",
      "Processing Record 36 of Set 3 : porto novo\n",
      "Processing Record 37 of Set 3 : codrington\n",
      "Processing Record 38 of Set 3 : airai\n",
      "Processing Record 39 of Set 3 : bendigo\n",
      "Processing Record 40 of Set 3 : victoria\n",
      "Processing Record 41 of Set 3 : saint-augustin\n",
      "City not found. Skipping...\n",
      "Processing Record 42 of Set 3 : tura\n",
      "Processing Record 43 of Set 3 : ati\n",
      "City not found. Skipping...\n",
      "Processing Record 44 of Set 3 : torbay\n",
      "Processing Record 45 of Set 3 : spring valley\n",
      "Processing Record 46 of Set 3 : arraial do cabo\n",
      "City not found. Skipping...\n",
      "Processing Record 47 of Set 3 : port lincoln\n",
      "Processing Record 48 of Set 3 : camana\n",
      "Processing Record 49 of Set 3 : ketchikan\n",
      "Processing Record 50 of Set 3 : nova varos\n",
      "Processing Record 0 of Set 4 : ozinki\n",
      "Processing Record 1 of Set 4 : alta floresta\n",
      "Processing Record 2 of Set 4 : chokurdakh\n",
      "Processing Record 3 of Set 4 : troitsko-pechorsk\n",
      "Processing Record 4 of Set 4 : lebu\n",
      "Processing Record 5 of Set 4 : ilulissat\n",
      "Processing Record 6 of Set 4 : nkhata bay\n",
      "Processing Record 7 of Set 4 : tavira\n",
      "Processing Record 8 of Set 4 : broken hill\n",
      "Processing Record 9 of Set 4 : ixtapa\n",
      "Processing Record 10 of Set 4 : wanning\n",
      "Processing Record 11 of Set 4 : puerto quijarro\n",
      "Processing Record 12 of Set 4 : nanortalik\n",
      "Processing Record 13 of Set 4 : cervo\n",
      "Processing Record 14 of Set 4 : beni\n",
      "Processing Record 15 of Set 4 : grindavik\n",
      "Processing Record 16 of Set 4 : plouzane\n",
      "Processing Record 17 of Set 4 : port-gentil\n",
      "Processing Record 18 of Set 4 : sabha\n",
      "Processing Record 19 of Set 4 : bulawayo\n",
      "Processing Record 20 of Set 4 : sur\n",
      "Processing Record 21 of Set 4 : jumla\n",
      "Processing Record 22 of Set 4 : maragogi\n",
      "Processing Record 23 of Set 4 : muros\n",
      "Processing Record 24 of Set 4 : georgetown\n",
      "Processing Record 25 of Set 4 : constitucion\n",
      "Processing Record 26 of Set 4 : katsuura\n",
      "Processing Record 27 of Set 4 : praia da vitoria\n",
      "Processing Record 28 of Set 4 : caborca\n",
      "Processing Record 29 of Set 4 : bambous virieux\n",
      "Processing Record 30 of Set 4 : dumas\n",
      "City not found. Skipping...\n",
      "Processing Record 31 of Set 4 : chitungwiza\n",
      "Processing Record 32 of Set 4 : seoul\n",
      "Processing Record 33 of Set 4 : lagoa\n",
      "Processing Record 34 of Set 4 : constantine\n"
     ]
    },
    {
     "name": "stdout",
     "output_type": "stream",
     "text": [
      "Processing Record 35 of Set 4 : okato\n",
      "Processing Record 36 of Set 4 : lasa\n",
      "Processing Record 37 of Set 4 : sinnamary\n",
      "Processing Record 38 of Set 4 : alekseyevsk\n",
      "Processing Record 39 of Set 4 : det udom\n",
      "Processing Record 40 of Set 4 : onega\n",
      "Processing Record 41 of Set 4 : hami\n",
      "Processing Record 42 of Set 4 : mobaye\n",
      "Processing Record 43 of Set 4 : morondava\n",
      "Processing Record 44 of Set 4 : tanout\n",
      "Processing Record 45 of Set 4 : sept-iles\n",
      "Processing Record 46 of Set 4 : khandbari\n",
      "Processing Record 47 of Set 4 : ust-kuyga\n",
      "Processing Record 48 of Set 4 : manggar\n",
      "Processing Record 49 of Set 4 : caravelas\n",
      "Processing Record 50 of Set 4 : lorengau\n",
      "Processing Record 0 of Set 5 : ponta do sol\n",
      "Processing Record 1 of Set 5 : new norfolk\n",
      "Processing Record 2 of Set 5 : koygorodok\n",
      "Processing Record 3 of Set 5 : marsh harbour\n",
      "Processing Record 4 of Set 5 : thionville\n",
      "City not found. Skipping...\n",
      "Processing Record 5 of Set 5 : broome\n",
      "Processing Record 6 of Set 5 : lingao\n",
      "Processing Record 7 of Set 5 : itoman\n",
      "Processing Record 8 of Set 5 : ceres\n",
      "Processing Record 9 of Set 5 : luderitz\n",
      "Processing Record 10 of Set 5 : port blair\n",
      "Processing Record 11 of Set 5 : aykhal\n",
      "Processing Record 12 of Set 5 : lisala\n",
      "Processing Record 13 of Set 5 : iqaluit\n",
      "Processing Record 14 of Set 5 : mudgee\n",
      "Processing Record 15 of Set 5 : ribeira grande\n",
      "City not found. Skipping...\n",
      "Processing Record 16 of Set 5 : khatanga\n",
      "Processing Record 17 of Set 5 : fortuna\n",
      "Processing Record 18 of Set 5 : mount isa\n",
      "Processing Record 19 of Set 5 : abu dhabi\n",
      "Processing Record 20 of Set 5 : lipari\n",
      "Processing Record 21 of Set 5 : saint-joseph\n",
      "City not found. Skipping...\n",
      "Processing Record 22 of Set 5 : nishihara\n",
      "Processing Record 23 of Set 5 : saint-leu\n",
      "Processing Record 24 of Set 5 : inhambane\n",
      "Processing Record 25 of Set 5 : port keats\n",
      "Processing Record 26 of Set 5 : kindu\n",
      "Processing Record 27 of Set 5 : alamogordo\n",
      "Processing Record 28 of Set 5 : cabo san lucas\n",
      "Processing Record 29 of Set 5 : marystown\n",
      "Processing Record 30 of Set 5 : dalby\n",
      "Processing Record 31 of Set 5 : husavik\n",
      "Processing Record 32 of Set 5 : palu\n",
      "Processing Record 33 of Set 5 : taoudenni\n",
      "Processing Record 34 of Set 5 : klaksvik\n",
      "Processing Record 35 of Set 5 : phalodi\n",
      "Processing Record 36 of Set 5 : ouadda\n",
      "Processing Record 37 of Set 5 : santa cruz de tenerife\n",
      "Processing Record 38 of Set 5 : harper\n",
      "Processing Record 39 of Set 5 : bonthe\n",
      "Processing Record 40 of Set 5 : marienburg\n",
      "Processing Record 41 of Set 5 : tukrah\n",
      "Processing Record 42 of Set 5 : vaitape\n",
      "Processing Record 43 of Set 5 : san andres\n",
      "Processing Record 44 of Set 5 : bukama\n",
      "Processing Record 45 of Set 5 : pachino\n",
      "Processing Record 46 of Set 5 : paciran\n",
      "Processing Record 47 of Set 5 : hofn\n",
      "Processing Record 48 of Set 5 : fethiye\n",
      "Processing Record 49 of Set 5 : jamame\n",
      "Processing Record 50 of Set 5 : gayeri\n",
      "Processing Record 0 of Set 6 : rio grande\n",
      "Processing Record 1 of Set 6 : progreso\n",
      "Processing Record 2 of Set 6 : urucara\n",
      "City not found. Skipping...\n",
      "Processing Record 3 of Set 6 : faanui\n",
      "Processing Record 4 of Set 6 : carbonia\n",
      "Processing Record 5 of Set 6 : ahipara\n",
      "Processing Record 6 of Set 6 : isangel\n",
      "Processing Record 7 of Set 6 : chara\n",
      "Processing Record 8 of Set 6 : anito\n",
      "Processing Record 9 of Set 6 : kahului\n",
      "Processing Record 10 of Set 6 : serebryanyy bor\n",
      "Processing Record 11 of Set 6 : monte patria\n",
      "Processing Record 12 of Set 6 : xining\n",
      "Processing Record 13 of Set 6 : deniliquin\n",
      "Processing Record 14 of Set 6 : greystones\n",
      "Processing Record 15 of Set 6 : lynnwood\n",
      "Processing Record 16 of Set 6 : tautira\n",
      "Processing Record 17 of Set 6 : coahuayana\n",
      "Processing Record 18 of Set 6 : matara\n",
      "Processing Record 19 of Set 6 : verkhnyaya inta\n",
      "City not found. Skipping...\n",
      "Processing Record 20 of Set 6 : bongandanga\n",
      "Processing Record 21 of Set 6 : norman wells\n",
      "Processing Record 22 of Set 6 : santa cruz del sur\n",
      "Processing Record 23 of Set 6 : namibe\n",
      "Processing Record 24 of Set 6 : montepuez\n",
      "Processing Record 25 of Set 6 : adre\n",
      "Processing Record 26 of Set 6 : maldonado\n",
      "Processing Record 27 of Set 6 : guerrero negro\n",
      "Processing Record 28 of Set 6 : kruisfontein\n",
      "Processing Record 29 of Set 6 : half moon bay\n",
      "Processing Record 30 of Set 6 : zharkent\n",
      "Processing Record 31 of Set 6 : kavaratti\n",
      "Processing Record 32 of Set 6 : pascagoula\n",
      "Processing Record 33 of Set 6 : nouadhibou\n",
      "Processing Record 34 of Set 6 : cotonou\n",
      "Processing Record 35 of Set 6 : sedhiou\n",
      "Processing Record 36 of Set 6 : kavieng\n",
      "Processing Record 37 of Set 6 : lishu\n",
      "Processing Record 38 of Set 6 : chicama\n",
      "Processing Record 39 of Set 6 : honningsvag\n",
      "Processing Record 40 of Set 6 : karachi\n",
      "Processing Record 41 of Set 6 : mmabatho\n",
      "Processing Record 42 of Set 6 : lompoc\n",
      "Processing Record 43 of Set 6 : portland\n",
      "Processing Record 44 of Set 6 : totolapan\n",
      "Processing Record 45 of Set 6 : mountain home\n",
      "Processing Record 46 of Set 6 : balotra\n",
      "Processing Record 47 of Set 6 : svetlogorsk\n",
      "Processing Record 48 of Set 6 : belyy yar\n",
      "City not found. Skipping...\n",
      "Processing Record 49 of Set 6 : islamkot\n",
      "City not found. Skipping...\n",
      "Processing Record 50 of Set 6 : bukachacha\n",
      "Processing Record 0 of Set 7 : okhotsk\n",
      "Processing Record 1 of Set 7 : leningradskiy\n",
      "Processing Record 2 of Set 7 : jablah\n",
      "Processing Record 3 of Set 7 : palmas\n",
      "Processing Record 4 of Set 7 : tshikapa\n",
      "City not found. Skipping...\n",
      "Processing Record 5 of Set 7 : araceli\n",
      "Processing Record 6 of Set 7 : dom pedrito\n",
      "Processing Record 7 of Set 7 : batemans bay\n",
      "Processing Record 8 of Set 7 : kloulklubed\n",
      "Processing Record 9 of Set 7 : athabasca\n",
      "Processing Record 10 of Set 7 : tessalit\n",
      "City not found. Skipping...\n",
      "Processing Record 11 of Set 7 : palmerston\n",
      "Processing Record 12 of Set 7 : aksu\n",
      "Processing Record 13 of Set 7 : carnarvon\n",
      "Processing Record 14 of Set 7 : sartell\n",
      "Processing Record 15 of Set 7 : fairbanks\n",
      "Processing Record 16 of Set 7 : tual\n",
      "Processing Record 17 of Set 7 : bereda\n",
      "Processing Record 18 of Set 7 : sisimiut\n",
      "Processing Record 19 of Set 7 : parrita\n",
      "Processing Record 20 of Set 7 : marovoay\n",
      "Processing Record 21 of Set 7 : bahia de caraquez\n",
      "Processing Record 22 of Set 7 : caska\n",
      "Processing Record 23 of Set 7 : krasnoselkup\n",
      "Processing Record 24 of Set 7 : andros\n",
      "Processing Record 25 of Set 7 : sao jose da coroa grande\n",
      "City not found. Skipping...\n",
      "Processing Record 26 of Set 7 : wladyslawowo\n",
      "Processing Record 27 of Set 7 : vostok\n",
      "Processing Record 28 of Set 7 : sao francisco\n",
      "City not found. Skipping...\n",
      "Processing Record 29 of Set 7 : keroka\n",
      "Processing Record 30 of Set 7 : rovaniemi\n",
      "Processing Record 31 of Set 7 : ouesso\n",
      "City not found. Skipping...\n",
      "Processing Record 32 of Set 7 : acajutla\n",
      "Processing Record 33 of Set 7 : magadan\n",
      "Processing Record 34 of Set 7 : vila franca do campo\n",
      "Processing Record 35 of Set 7 : aklavik\n",
      "City not found. Skipping...\n",
      "Processing Record 36 of Set 7 : foki\n",
      "Processing Record 37 of Set 7 : esmeraldas\n",
      "Processing Record 38 of Set 7 : angol\n",
      "Processing Record 39 of Set 7 : bakchar\n",
      "Processing Record 40 of Set 7 : luena\n",
      "City not found. Skipping...\n",
      "Processing Record 41 of Set 7 : guapore\n",
      "Processing Record 42 of Set 7 : langxiang\n",
      "Processing Record 43 of Set 7 : ivolginsk\n",
      "Processing Record 44 of Set 7 : brewster\n",
      "Processing Record 45 of Set 7 : cabra\n",
      "Processing Record 46 of Set 7 : hambantota\n",
      "Processing Record 47 of Set 7 : te anau\n",
      "Processing Record 48 of Set 7 : korla\n",
      "Processing Record 49 of Set 7 : lima\n",
      "Processing Record 50 of Set 7 : belaya gora\n",
      "Processing Record 0 of Set 8 : tuatapere\n",
      "Processing Record 1 of Set 8 : yangcun\n",
      "Processing Record 2 of Set 8 : bollnas\n",
      "Processing Record 3 of Set 8 : nemuro\n",
      "Processing Record 4 of Set 8 : ranong\n",
      "Processing Record 5 of Set 8 : mecca\n",
      "Processing Record 6 of Set 8 : mombetsu\n",
      "Processing Record 7 of Set 8 : hirado\n",
      "Processing Record 8 of Set 8 : ashdod\n",
      "Processing Record 9 of Set 8 : faya\n",
      "Processing Record 10 of Set 8 : puerto baquerizo moreno\n",
      "Processing Record 11 of Set 8 : richards bay\n",
      "Processing Record 12 of Set 8 : orlik\n",
      "Processing Record 13 of Set 8 : cartagena del chaira\n",
      "City not found. Skipping...\n",
      "Processing Record 14 of Set 8 : semey\n",
      "Processing Record 15 of Set 8 : westport\n",
      "Processing Record 16 of Set 8 : kaitangata\n",
      "Processing Record 17 of Set 8 : yar-sale\n",
      "Processing Record 18 of Set 8 : arlit\n",
      "Processing Record 19 of Set 8 : cedar city\n"
     ]
    },
    {
     "name": "stdout",
     "output_type": "stream",
     "text": [
      "Processing Record 20 of Set 8 : ambilobe\n",
      "City not found. Skipping...\n",
      "Processing Record 21 of Set 8 : labrea\n",
      "Processing Record 22 of Set 8 : sacele\n",
      "Processing Record 23 of Set 8 : tignere\n",
      "Processing Record 24 of Set 8 : herat\n",
      "Processing Record 25 of Set 8 : falam\n",
      "Processing Record 26 of Set 8 : killarney\n",
      "Processing Record 27 of Set 8 : french harbor\n",
      "City not found. Skipping...\n",
      "Processing Record 28 of Set 8 : tevaitoa\n",
      "Processing Record 29 of Set 8 : najran\n",
      "Processing Record 30 of Set 8 : kushiro\n",
      "Processing Record 31 of Set 8 : berberati\n",
      "Processing Record 32 of Set 8 : tezu\n",
      "Processing Record 33 of Set 8 : matucana\n",
      "Processing Record 34 of Set 8 : escuintla\n",
      "Processing Record 35 of Set 8 : mustasaari\n",
      "Processing Record 36 of Set 8 : prince rupert\n",
      "Processing Record 37 of Set 8 : patos\n",
      "Processing Record 38 of Set 8 : quelimane\n",
      "City not found. Skipping...\n",
      "Processing Record 39 of Set 8 : port augusta\n",
      "Processing Record 40 of Set 8 : smoky lake\n",
      "Processing Record 41 of Set 8 : acari\n",
      "Processing Record 42 of Set 8 : bonavista\n",
      "Processing Record 43 of Set 8 : hamilton\n",
      "Processing Record 44 of Set 8 : gizo\n",
      "Processing Record 45 of Set 8 : berck\n",
      "City not found. Skipping...\n",
      "Processing Record 46 of Set 8 : kalasin\n",
      "Processing Record 47 of Set 8 : nhulunbuy\n",
      "Processing Record 48 of Set 8 : prabumulih\n",
      "Processing Record 49 of Set 8 : grand gaube\n",
      "Processing Record 50 of Set 8 : aden\n",
      "Processing Record 0 of Set 9 : bonga\n",
      "Processing Record 1 of Set 9 : indramayu\n",
      "City not found. Skipping...\n",
      "Processing Record 2 of Set 9 : atambua\n",
      "Processing Record 3 of Set 9 : barguzin\n",
      "Processing Record 4 of Set 9 : galveston\n",
      "Processing Record 5 of Set 9 : mount gambier\n",
      "Processing Record 6 of Set 9 : yulara\n",
      "Processing Record 7 of Set 9 : mamallapuram\n",
      "Processing Record 8 of Set 9 : rio gallegos\n",
      "Processing Record 9 of Set 9 : elko\n",
      "Processing Record 10 of Set 9 : yanino\n",
      "Processing Record 11 of Set 9 : komsomolskoye\n",
      "Processing Record 12 of Set 9 : moose factory\n",
      "Processing Record 13 of Set 9 : eureka\n",
      "Processing Record 14 of Set 9 : verkhnetulomskiy\n",
      "Processing Record 15 of Set 9 : lalibela\n",
      "Processing Record 16 of Set 9 : filadelfia\n",
      "Processing Record 17 of Set 9 : alice springs\n",
      "Processing Record 18 of Set 9 : thanh hoa\n",
      "Processing Record 19 of Set 9 : vardo\n",
      "Processing Record 20 of Set 9 : puerto colombia\n",
      "Processing Record 21 of Set 9 : tarakan\n",
      "Processing Record 22 of Set 9 : desterro\n",
      "Processing Record 23 of Set 9 : russell\n",
      "Processing Record 24 of Set 9 : mbini\n",
      "Processing Record 25 of Set 9 : buala\n",
      "Processing Record 26 of Set 9 : turukhansk\n",
      "Processing Record 27 of Set 9 : pisco\n",
      "Processing Record 28 of Set 9 : eydhafushi\n",
      "Processing Record 29 of Set 9 : aguachica\n",
      "Processing Record 30 of Set 9 : reyes\n",
      "Processing Record 31 of Set 9 : bilma\n",
      "Processing Record 32 of Set 9 : villafranca de los barros\n",
      "Processing Record 33 of Set 9 : sabang\n",
      "Processing Record 34 of Set 9 : baraki barak\n",
      "Processing Record 35 of Set 9 : pangai\n",
      "Processing Record 36 of Set 9 : ust-ishim\n",
      "Processing Record 37 of Set 9 : sao miguel do araguaia\n",
      "Processing Record 38 of Set 9 : ornskoldsvik\n",
      "Processing Record 39 of Set 9 : shiraz\n",
      "Processing Record 40 of Set 9 : pangnirtung\n",
      "Processing Record 41 of Set 9 : kupang\n",
      "Processing Record 42 of Set 9 : pacific grove\n",
      "Processing Record 43 of Set 9 : the valley\n",
      "Processing Record 44 of Set 9 : chebsara\n",
      "Processing Record 45 of Set 9 : camargo\n",
      "Processing Record 46 of Set 9 : saint anthony\n",
      "Processing Record 47 of Set 9 : groningen\n",
      "Processing Record 48 of Set 9 : teahupoo\n",
      "Processing Record 49 of Set 9 : souillac\n",
      "Processing Record 50 of Set 9 : mbalmayo\n",
      "Processing Record 0 of Set 10 : puerto penasco\n",
      "Processing Record 1 of Set 10 : derzhavinsk\n",
      "Processing Record 2 of Set 10 : terrace\n",
      "City not found. Skipping...\n",
      "Processing Record 3 of Set 10 : letnyaya stavka\n",
      "City not found. Skipping...\n",
      "City not found. Skipping...\n",
      "Processing Record 4 of Set 10 : camacha\n",
      "Processing Record 5 of Set 10 : miri\n",
      "Processing Record 6 of Set 10 : dongfeng\n",
      "Processing Record 7 of Set 10 : clarksburg\n",
      "Processing Record 8 of Set 10 : wanaka\n",
      "Processing Record 9 of Set 10 : chancay\n",
      "Processing Record 10 of Set 10 : along\n",
      "City not found. Skipping...\n",
      "Processing Record 11 of Set 10 : clifton\n",
      "Processing Record 12 of Set 10 : mundo nuevo\n",
      "Processing Record 13 of Set 10 : rzhev\n",
      "Processing Record 14 of Set 10 : grayvoron\n",
      "Processing Record 15 of Set 10 : puerto del rosario\n",
      "Processing Record 16 of Set 10 : aquin\n",
      "Processing Record 17 of Set 10 : cockburn town\n",
      "Processing Record 18 of Set 10 : hope\n",
      "Processing Record 19 of Set 10 : nelson bay\n",
      "Processing Record 20 of Set 10 : saldanha\n",
      "Processing Record 21 of Set 10 : lazaro cardenas\n",
      "Processing Record 22 of Set 10 : talcahuano\n",
      "Processing Record 23 of Set 10 : keflavik\n",
      "Processing Record 24 of Set 10 : shiyan\n",
      "Processing Record 25 of Set 10 : oksfjord\n",
      "Processing Record 26 of Set 10 : colares\n",
      "Processing Record 27 of Set 10 : north myrtle beach\n",
      "Processing Record 28 of Set 10 : cassino\n",
      "Processing Record 29 of Set 10 : lodja\n",
      "Processing Record 30 of Set 10 : kinkala\n",
      "Processing Record 31 of Set 10 : alindao\n",
      "Processing Record 32 of Set 10 : prattville\n",
      "Processing Record 33 of Set 10 : benemerito de las americas\n",
      "Processing Record 34 of Set 10 : san vicente\n",
      "Processing Record 35 of Set 10 : vilhena\n",
      "Processing Record 36 of Set 10 : mehamn\n",
      "Processing Record 37 of Set 10 : itarema\n",
      "Processing Record 38 of Set 10 : jiangyou\n",
      "Processing Record 39 of Set 10 : nobeoka\n",
      "City not found. Skipping...\n",
      "Processing Record 40 of Set 10 : flin flon\n",
      "Processing Record 41 of Set 10 : aljezur\n",
      "Processing Record 42 of Set 10 : noormarkku\n",
      "Processing Record 43 of Set 10 : payyannur\n",
      "Processing Record 44 of Set 10 : kieta\n",
      "Processing Record 45 of Set 10 : dunmore\n",
      "Processing Record 46 of Set 10 : kawalu\n",
      "Processing Record 47 of Set 10 : nuuk\n",
      "Processing Record 48 of Set 10 : hovd\n",
      "Processing Record 49 of Set 10 : ust-maya\n",
      "Processing Record 50 of Set 10 : fresnillo\n",
      "Processing Record 0 of Set 11 : chipinge\n",
      "Processing Record 1 of Set 11 : alvik\n",
      "Processing Record 2 of Set 11 : san carlos de bariloche\n",
      "Processing Record 3 of Set 11 : zemio\n",
      "Processing Record 4 of Set 11 : sal rei\n",
      "City not found. Skipping...\n",
      "Processing Record 5 of Set 11 : dawson creek\n",
      "Processing Record 6 of Set 11 : homer\n",
      "Processing Record 7 of Set 11 : sibolga\n",
      "Processing Record 8 of Set 11 : berbera\n",
      "Processing Record 9 of Set 11 : yumen\n",
      "Processing Record 10 of Set 11 : keti bandar\n",
      "Processing Record 11 of Set 11 : balkanabat\n",
      "Processing Record 12 of Set 11 : calama\n",
      "Processing Record 13 of Set 11 : kishtwar\n",
      "Processing Record 14 of Set 11 : saint-pierre\n",
      "Processing Record 15 of Set 11 : sychevka\n",
      "City not found. Skipping...\n",
      "Processing Record 16 of Set 11 : salvador\n",
      "Processing Record 17 of Set 11 : college\n",
      "Processing Record 18 of Set 11 : qingdao\n",
      "Processing Record 19 of Set 11 : roald\n",
      "Processing Record 20 of Set 11 : harbour breton\n",
      "Processing Record 21 of Set 11 : great yarmouth\n",
      "Processing Record 22 of Set 11 : northam\n",
      "Processing Record 23 of Set 11 : piacabucu\n",
      "Processing Record 24 of Set 11 : alyangula\n",
      "Processing Record 25 of Set 11 : tamandare\n",
      "Processing Record 26 of Set 11 : bagdarin\n",
      "Processing Record 27 of Set 11 : comal\n",
      "Processing Record 28 of Set 11 : smiths falls\n",
      "Processing Record 29 of Set 11 : motygino\n",
      "Processing Record 30 of Set 11 : gallup\n",
      "Processing Record 31 of Set 11 : karasjok\n",
      "Processing Record 32 of Set 11 : alice town\n",
      "Processing Record 33 of Set 11 : conceicao do araguaia\n",
      "Processing Record 34 of Set 11 : akyab\n",
      "Processing Record 35 of Set 11 : chegutu\n",
      "Processing Record 36 of Set 11 : mersing\n",
      "Processing Record 37 of Set 11 : beinamar\n",
      "Processing Record 38 of Set 11 : garden city\n",
      "Processing Record 39 of Set 11 : lata\n",
      "Processing Record 40 of Set 11 : healesville\n",
      "Processing Record 41 of Set 11 : ternate\n",
      "Processing Record 42 of Set 11 : potsdam\n",
      "Processing Record 43 of Set 11 : beloha\n",
      "Processing Record 44 of Set 11 : dukat\n",
      "Processing Record 45 of Set 11 : merritt island\n",
      "Processing Record 46 of Set 11 : poum\n",
      "Processing Record 47 of Set 11 : manakara\n",
      "Processing Record 48 of Set 11 : anadyr\n",
      "Processing Record 49 of Set 11 : port hedland\n",
      "City not found. Skipping...\n",
      "Processing Record 50 of Set 11 : berdigestyakh\n",
      "Processing Record 0 of Set 12 : alikovo\n",
      "Processing Record 1 of Set 12 : praia\n",
      "-----------------------------\n",
      "Data Retrieval Complete\n",
      "-----------------------------\n"
     ]
    }
   ],
   "source": [
    "# initialize lists to hold data from api call\n",
    "city_name_list = []\n",
    "cloudiness_list = []\n",
    "country_list = []\n",
    "date_list = []\n",
    "humidity_list = []\n",
    "lat_list = []\n",
    "lng_list = []\n",
    "max_temp_list = []\n",
    "wind_speed_list = []\n",
    "index_counter = 0\n",
    "set_counter = 1\n",
    "\n",
    "print(\"Beginning Data Retrieval \")\n",
    "print(\"-----------------------------\")\n",
    "\n",
    "base_url = \"http://api.openweathermap.org/data/2.5/weather?\"\n",
    "units = \"imperial\"\n",
    "query_url = f\"{base_url}appid={open_weather_api_key}&units={units}&q=\"\n",
    "\n",
    "\n",
    "# For each city name in cities list, do below things...\n",
    "for index, city in enumerate(cities, start = 1):\n",
    "    try:\n",
    "        response = requests.get(query_url + city).json()\n",
    "        city_name_list.append(response[\"name\"])\n",
    "        cloudiness_list.append(response[\"clouds\"][\"all\"])\n",
    "        country_list.append(response[\"sys\"][\"country\"])\n",
    "        date_list.append(response[\"dt\"])\n",
    "        humidity_list.append(response[\"main\"][\"humidity\"])\n",
    "        lat_list.append(response[\"coord\"][\"lat\"])\n",
    "        lng_list.append(response[\"coord\"][\"lon\"])\n",
    "        max_temp_list.append(response['main']['temp_max'])\n",
    "        wind_speed_list.append(response[\"wind\"][\"speed\"])\n",
    "        if index_counter > 49:\n",
    "            index_counter = 0\n",
    "            set_counter = set_counter + 1\n",
    "    \n",
    "        else:\n",
    "            index_counter = index_counter + 1\n",
    "            \n",
    "        print(f\"Processing Record {index_counter} of Set {set_counter} : {city}\") \n",
    "  \n",
    "    except(KeyError, IndexError):\n",
    "        print(\"City not found. Skipping...\")\n",
    "\n",
    "print(\"-----------------------------\")\n",
    "print(\"Data Retrieval Complete\")\n",
    "print(\"-----------------------------\")\n",
    "\n"
   ]
  },
  {
   "cell_type": "code",
   "execution_count": 4,
   "metadata": {},
   "outputs": [
    {
     "data": {
      "text/plain": [
       "City          562\n",
       "Cloudiness    562\n",
       "Country       562\n",
       "Date          562\n",
       "Humidity      562\n",
       "Lat           562\n",
       "Lng           562\n",
       "Max Temp      562\n",
       "Wind Speed    562\n",
       "dtype: int64"
      ]
     },
     "execution_count": 4,
     "metadata": {},
     "output_type": "execute_result"
    }
   ],
   "source": [
    "# Create a panda data frame using data retrieved\n",
    "weather_dict = pd.DataFrame({ \n",
    "                \"City\" : city_name_list,\n",
    "                \"Cloudiness\" : cloudiness_list,\n",
    "                \"Country\" : country_list,\n",
    "                \"Date\" : date_list,\n",
    "                \"Humidity\" : humidity_list,\n",
    "                \"Lat\" : lat_list,\n",
    "                \"Lng\" : lng_list,\n",
    "                \"Max Temp\" : max_temp_list,\n",
    "                \"Wind Speed\" : wind_speed_list\n",
    "})\n",
    "weather_dict.count()"
   ]
  },
  {
   "cell_type": "markdown",
   "metadata": {},
   "source": [
    "### Convert Raw Data to DataFrame\n",
    "* Export the city data into a .csv.\n",
    "* Display the DataFrame"
   ]
  },
  {
   "cell_type": "code",
   "execution_count": 5,
   "metadata": {},
   "outputs": [
    {
     "data": {
      "text/html": [
       "<div>\n",
       "<style scoped>\n",
       "    .dataframe tbody tr th:only-of-type {\n",
       "        vertical-align: middle;\n",
       "    }\n",
       "\n",
       "    .dataframe tbody tr th {\n",
       "        vertical-align: top;\n",
       "    }\n",
       "\n",
       "    .dataframe thead th {\n",
       "        text-align: right;\n",
       "    }\n",
       "</style>\n",
       "<table border=\"1\" class=\"dataframe\">\n",
       "  <thead>\n",
       "    <tr style=\"text-align: right;\">\n",
       "      <th></th>\n",
       "      <th>City</th>\n",
       "      <th>Cloudiness</th>\n",
       "      <th>Country</th>\n",
       "      <th>Date</th>\n",
       "      <th>Humidity</th>\n",
       "      <th>Lat</th>\n",
       "      <th>Lng</th>\n",
       "      <th>Max Temp</th>\n",
       "      <th>Wind Speed</th>\n",
       "    </tr>\n",
       "  </thead>\n",
       "  <tbody>\n",
       "    <tr>\n",
       "      <th>0</th>\n",
       "      <td>Busselton</td>\n",
       "      <td>62</td>\n",
       "      <td>AU</td>\n",
       "      <td>1630120123</td>\n",
       "      <td>63</td>\n",
       "      <td>-33.6500</td>\n",
       "      <td>115.3333</td>\n",
       "      <td>61.05</td>\n",
       "      <td>9.55</td>\n",
       "    </tr>\n",
       "    <tr>\n",
       "      <th>1</th>\n",
       "      <td>Cape Town</td>\n",
       "      <td>72</td>\n",
       "      <td>ZA</td>\n",
       "      <td>1630119942</td>\n",
       "      <td>93</td>\n",
       "      <td>-33.9258</td>\n",
       "      <td>18.4232</td>\n",
       "      <td>44.89</td>\n",
       "      <td>4.00</td>\n",
       "    </tr>\n",
       "    <tr>\n",
       "      <th>2</th>\n",
       "      <td>Nikolskoye</td>\n",
       "      <td>61</td>\n",
       "      <td>RU</td>\n",
       "      <td>1630120123</td>\n",
       "      <td>93</td>\n",
       "      <td>59.7035</td>\n",
       "      <td>30.7861</td>\n",
       "      <td>57.09</td>\n",
       "      <td>5.55</td>\n",
       "    </tr>\n",
       "    <tr>\n",
       "      <th>3</th>\n",
       "      <td>Chui</td>\n",
       "      <td>1</td>\n",
       "      <td>UY</td>\n",
       "      <td>1630120124</td>\n",
       "      <td>81</td>\n",
       "      <td>-33.6971</td>\n",
       "      <td>-53.4616</td>\n",
       "      <td>47.55</td>\n",
       "      <td>5.55</td>\n",
       "    </tr>\n",
       "    <tr>\n",
       "      <th>4</th>\n",
       "      <td>Hilo</td>\n",
       "      <td>90</td>\n",
       "      <td>US</td>\n",
       "      <td>1630120124</td>\n",
       "      <td>75</td>\n",
       "      <td>19.7297</td>\n",
       "      <td>-155.0900</td>\n",
       "      <td>82.27</td>\n",
       "      <td>5.75</td>\n",
       "    </tr>\n",
       "  </tbody>\n",
       "</table>\n",
       "</div>"
      ],
      "text/plain": [
       "         City  Cloudiness Country        Date  Humidity      Lat       Lng  \\\n",
       "0   Busselton          62      AU  1630120123        63 -33.6500  115.3333   \n",
       "1   Cape Town          72      ZA  1630119942        93 -33.9258   18.4232   \n",
       "2  Nikolskoye          61      RU  1630120123        93  59.7035   30.7861   \n",
       "3        Chui           1      UY  1630120124        81 -33.6971  -53.4616   \n",
       "4        Hilo          90      US  1630120124        75  19.7297 -155.0900   \n",
       "\n",
       "   Max Temp  Wind Speed  \n",
       "0     61.05        9.55  \n",
       "1     44.89        4.00  \n",
       "2     57.09        5.55  \n",
       "3     47.55        5.55  \n",
       "4     82.27        5.75  "
      ]
     },
     "execution_count": 5,
     "metadata": {},
     "output_type": "execute_result"
    }
   ],
   "source": [
    "# Save city data into a csv file\n",
    "weather_dict.to_csv(\"output_data/cities.csv\", index = False)\n",
    "weather_dict.head()\n"
   ]
  },
  {
   "cell_type": "code",
   "execution_count": 6,
   "metadata": {},
   "outputs": [
    {
     "data": {
      "text/html": [
       "<div>\n",
       "<style scoped>\n",
       "    .dataframe tbody tr th:only-of-type {\n",
       "        vertical-align: middle;\n",
       "    }\n",
       "\n",
       "    .dataframe tbody tr th {\n",
       "        vertical-align: top;\n",
       "    }\n",
       "\n",
       "    .dataframe thead th {\n",
       "        text-align: right;\n",
       "    }\n",
       "</style>\n",
       "<table border=\"1\" class=\"dataframe\">\n",
       "  <thead>\n",
       "    <tr style=\"text-align: right;\">\n",
       "      <th></th>\n",
       "      <th>City</th>\n",
       "      <th>Cloudiness</th>\n",
       "      <th>Country</th>\n",
       "      <th>Date</th>\n",
       "      <th>Humidity</th>\n",
       "      <th>Lat</th>\n",
       "      <th>Lng</th>\n",
       "      <th>Max Temp</th>\n",
       "      <th>Wind Speed</th>\n",
       "    </tr>\n",
       "  </thead>\n",
       "  <tbody>\n",
       "  </tbody>\n",
       "</table>\n",
       "</div>"
      ],
      "text/plain": [
       "Empty DataFrame\n",
       "Columns: [City, Cloudiness, Country, Date, Humidity, Lat, Lng, Max Temp, Wind Speed]\n",
       "Index: []"
      ]
     },
     "execution_count": 6,
     "metadata": {},
     "output_type": "execute_result"
    }
   ],
   "source": [
    "# convert dictionary to dataframe and use .query to find cities with humidity > 99% \n",
    "weather_df = pd.DataFrame(weather_dict)\n",
    "#weather_df.head()\n",
    "humidity_df = weather_df.query('Humidity > 100')\n",
    "humidity_df.head()"
   ]
  },
  {
   "cell_type": "markdown",
   "metadata": {},
   "source": [
    "## Inspect the data and remove the cities where the humidity > 100%.\n",
    "----\n",
    "Skip this step if there are no cities that have humidity > 100%. \n",
    "\n",
    "#### I found there are no cities with humidity > 100% "
   ]
  },
  {
   "cell_type": "markdown",
   "metadata": {},
   "source": [
    "## Plotting the Data\n",
    "* Use proper labeling of the plots using plot titles (including date of analysis) and axes labels.\n",
    "* Save the plotted figures as .pngs."
   ]
  },
  {
   "cell_type": "markdown",
   "metadata": {},
   "source": [
    "## Latitude vs. Temperature Plot"
   ]
  },
  {
   "cell_type": "code",
   "execution_count": 7,
   "metadata": {
    "scrolled": true
   },
   "outputs": [
    {
     "data": {
      "image/png": "[encoded data removed]",
      "text/plain": [
       "<Figure size 432x288 with 1 Axes>"
      ]
     },
     "metadata": {
      "needs_background": "light"
     },
     "output_type": "display_data"
    }
   ],
   "source": [
    "#Latitude vs Temperature\n",
    "\n",
    "da= (time.strftime('Weather Scatter Plot %m/%d/%y'))        \n",
    "weather_df.plot(kind='scatter',x='Max Temp', y='Lat',title=da )\n",
    "pass\n"
   ]
  },
  {
   "cell_type": "markdown",
   "metadata": {},
   "source": [
    "## Latitude vs. Humidity Plot"
   ]
  },
  {
   "cell_type": "code",
   "execution_count": 8,
   "metadata": {},
   "outputs": [
    {
     "data": {
      "image/png": "[encoded data removed]",
      "text/plain": [
       "<Figure size 432x288 with 1 Axes>"
      ]
     },
     "metadata": {
      "needs_background": "light"
     },
     "output_type": "display_data"
    }
   ],
   "source": [
    "da=time.strftime('Latitude vs Humidity %m/%d/%y')\n",
    "weather_df.columns\n",
    "weather_df.plot(kind='scatter',x='Lat',y='Humidity',title=da)\n",
    "pass"
   ]
  },
  {
   "cell_type": "markdown",
   "metadata": {},
   "source": [
    "## Latitude vs. Cloudiness Plot"
   ]
  },
  {
   "cell_type": "code",
   "execution_count": 9,
   "metadata": {},
   "outputs": [
    {
     "data": {
      "image/png": "[encoded data removed]",
      "text/plain": [
       "<Figure size 432x288 with 1 Axes>"
      ]
     },
     "metadata": {
      "needs_background": "light"
     },
     "output_type": "display_data"
    }
   ],
   "source": [
    "da=time.strftime('Latitude vs Cloudiness %m/%d/%y')\n",
    "weather_df.plot(kind='scatter',x='Lat',y='Cloudiness',title = da)\n",
    "pass"
   ]
  },
  {
   "cell_type": "markdown",
   "metadata": {},
   "source": [
    "## Latitude vs. Wind Speed Plot"
   ]
  },
  {
   "cell_type": "code",
   "execution_count": 10,
   "metadata": {
    "scrolled": true
   },
   "outputs": [
    {
     "data": {
      "image/png": "[encoded data removed]",
      "text/plain": [
       "<Figure size 432x288 with 1 Axes>"
      ]
     },
     "metadata": {
      "needs_background": "light"
     },
     "output_type": "display_data"
    }
   ],
   "source": [
    "da=time.strftime('Latitude vs Wind Speed %m/%d/%y')\n",
    "weather_df.plot(kind='scatter',x='Wind Speed',y='Lat',title=da)\n",
    "pass"
   ]
  },
  {
   "cell_type": "markdown",
   "metadata": {},
   "source": [
    "## Linear Regression"
   ]
  },
  {
   "cell_type": "code",
   "execution_count": 11,
   "metadata": {},
   "outputs": [],
   "source": [
    "# Create Northern and Southern Hemisphere DataFrames\n",
    "northern_df = weather_dict.loc[weather_dict[\"Lat\"] >= 0]\n",
    "southern_df = weather_dict.loc[weather_dict[\"Lat\"] < 0]\n"
   ]
  },
  {
   "cell_type": "markdown",
   "metadata": {},
   "source": [
    "####  Northern Hemisphere - Max Temp vs. Latitude Linear Regression"
   ]
  },
  {
   "cell_type": "code",
   "execution_count": 12,
   "metadata": {},
   "outputs": [
    {
     "data": {
      "image/png": "[encoded data removed]",
      "text/plain": [
       "<Figure size 432x288 with 1 Axes>"
      ]
     },
     "metadata": {
      "needs_background": "light"
     },
     "output_type": "display_data"
    }
   ],
   "source": [
    "\n",
    "x_values = pd.to_numeric(northern_df['Lat']).astype(float)\n",
    "y_values = pd.to_numeric(northern_df['Max Temp']).astype(float)\n",
    "# use lineregress to calculate a least-squares regression for two sets of measurements\n",
    "# https://docs.scipy.org/doc/scipy-0.16.1/reference/generated/scipy.stats.linregress.html\n",
    "(slope, intercept, rvalue,pvalue,sterr) = linregress(x_values, y_values)\n",
    "\n",
    "regression_values = x_values * slope + intercept\n",
    "\n",
    "plt.plot(x_values,y_values,'o',color='blue')\n",
    "plt.plot(x_values,regression_values,'r')\n",
    "#label='Max Temp vs Latitude',\n",
    "\n",
    "plt.xlabel('Lat')\n",
    "plt.ylabel('MaxTemp')\n",
    "plt.title('Max Temp vs Latitude')\n",
    "plt.show()\n",
    "pass"
   ]
  },
  {
   "cell_type": "markdown",
   "metadata": {},
   "source": [
    "####  Southern Hemisphere - Max Temp vs. Latitude Linear Regression"
   ]
  },
  {
   "cell_type": "code",
   "execution_count": 13,
   "metadata": {},
   "outputs": [
    {
     "data": {
      "image/png": "[encoded data removed]",
      "text/plain": [
       "<Figure size 432x288 with 1 Axes>"
      ]
     },
     "metadata": {
      "needs_background": "light"
     },
     "output_type": "display_data"
    }
   ],
   "source": [
    "southern_df\n",
    "x_values = pd.to_numeric(southern_df['Lat']).astype(float)\n",
    "y_values = pd.to_numeric(southern_df['Max Temp']).astype(float)\n",
    "# use lineregress to calculate a least-squares regression for two sets of measurements\n",
    "# https://docs.scipy.org/doc/scipy-0.16.1/reference/generated/scipy.stats.linregress.html\n",
    "(slope, intercept, rvalue,pvalue,sterr) = linregress(x_values, y_values)\n",
    "\n",
    "regression_values = x_values * slope + intercept\n",
    "\n",
    "plt.plot(x_values,y_values,'o',color='blue')\n",
    "plt.plot(x_values,regression_values,'r')\n",
    "#label='Max Temp vs Latitude',\n",
    "\n",
    "plt.xlabel('Lat')\n",
    "plt.ylabel('MaxTemp')\n",
    "plt.title('Max Temp vs Latitude')\n",
    "plt.show()\n",
    "pass"
   ]
  },
  {
   "cell_type": "markdown",
   "metadata": {},
   "source": [
    "####  Northern Hemisphere - Humidity (%) vs. Latitude Linear Regression"
   ]
  },
  {
   "cell_type": "code",
   "execution_count": 14,
   "metadata": {},
   "outputs": [
    {
     "data": {
      "image/png": "[encoded data removed]",
      "text/plain": [
       "<Figure size 432x288 with 1 Axes>"
      ]
     },
     "metadata": {
      "needs_background": "light"
     },
     "output_type": "display_data"
    }
   ],
   "source": [
    "\n",
    "x_values = pd.to_numeric(northern_df['Lat']).astype(float)\n",
    "y_values = pd.to_numeric(northern_df['Humidity']).astype(float)\n",
    "# use lineregress to calculate a least-squares regression for two sets of measurements\n",
    "# https://docs.scipy.org/doc/scipy-0.16.1/reference/generated/scipy.stats.linregress.html\n",
    "(slope, intercept, rvalue,pvalue,sterr) = linregress(x_values, y_values)\n",
    "\n",
    "regression_values = x_values * slope + intercept\n",
    "\n",
    "plt.plot(x_values,y_values,'o',color='blue')\n",
    "plt.plot(x_values,regression_values,'r')\n",
    "\n",
    "plt.xlabel('Lat')\n",
    "plt.ylabel('Humidity')\n",
    "plt.title('Humidity vs Latitude - Northern Hemisphere')\n",
    "plt.show()\n",
    "pass"
   ]
  },
  {
   "cell_type": "markdown",
   "metadata": {},
   "source": [
    "####  Southern Hemisphere - Humidity (%) vs. Latitude Linear Regression"
   ]
  },
  {
   "cell_type": "code",
   "execution_count": 15,
   "metadata": {},
   "outputs": [
    {
     "data": {
      "image/png": "[encoded data removed]",
      "text/plain": [
       "<Figure size 432x288 with 1 Axes>"
      ]
     },
     "metadata": {
      "needs_background": "light"
     },
     "output_type": "display_data"
    }
   ],
   "source": [
    "\n",
    "x_values = pd.to_numeric(southern_df['Lat']).astype(float)\n",
    "y_values = pd.to_numeric(southern_df['Humidity']).astype(float)\n",
    "# use lineregress to calculate a least-squares regression for two sets of measurements\n",
    "# https://docs.scipy.org/doc/scipy-0.16.1/reference/generated/scipy.stats.linregress.html\n",
    "(slope, intercept, rvalue,pvalue,sterr) = linregress(x_values, y_values)\n",
    "\n",
    "regression_values = x_values * slope + intercept\n",
    "\n",
    "plt.plot(x_values,y_values,'o',color='blue')\n",
    "plt.plot(x_values,regression_values,'r')\n",
    "\n",
    "plt.xlabel('Lat')\n",
    "plt.ylabel('Humidity')\n",
    "plt.title('Humidity vs Latitude - Southern Hemisphere')\n",
    "plt.show()\n",
    "pass"
   ]
  },
  {
   "cell_type": "markdown",
   "metadata": {},
   "source": [
    "####  Northern Hemisphere - Cloudiness (%) vs. Latitude Linear Regression"
   ]
  },
  {
   "cell_type": "code",
   "execution_count": 16,
   "metadata": {},
   "outputs": [
    {
     "data": {
      "image/png": "[encoded data removed]",
      "text/plain": [
       "<Figure size 432x288 with 1 Axes>"
      ]
     },
     "metadata": {
      "needs_background": "light"
     },
     "output_type": "display_data"
    }
   ],
   "source": [
    "\n",
    "x_values = pd.to_numeric(northern_df['Lat']).astype(float)\n",
    "y_values = pd.to_numeric(northern_df['Cloudiness']).astype(float)\n",
    "# use lineregress to calculate a least-squares regression for two sets of measurements\n",
    "# https://docs.scipy.org/doc/scipy-0.16.1/reference/generated/scipy.stats.linregress.html\n",
    "(slope, intercept, rvalue,pvalue,sterr) = linregress(x_values, y_values)\n",
    "\n",
    "regression_values = x_values * slope + intercept\n",
    "\n",
    "plt.plot(x_values,y_values,'o',color='blue')\n",
    "plt.plot(x_values,regression_values,'r')\n",
    "\n",
    "plt.xlabel('Lat')\n",
    "plt.ylabel('Cloudiness')\n",
    "plt.title('Cloudiness vs Latitude - Northern Hemisphere')\n",
    "plt.show()\n",
    "pass"
   ]
  },
  {
   "cell_type": "markdown",
   "metadata": {},
   "source": [
    "####  Southern Hemisphere - Cloudiness (%) vs. Latitude Linear Regression"
   ]
  },
  {
   "cell_type": "code",
   "execution_count": 17,
   "metadata": {},
   "outputs": [
    {
     "data": {
      "image/png": "[encoded data removed]",
      "text/plain": [
       "<Figure size 432x288 with 1 Axes>"
      ]
     },
     "metadata": {
      "needs_background": "light"
     },
     "output_type": "display_data"
    }
   ],
   "source": [
    "\n",
    "x_values = pd.to_numeric(southern_df['Lat']).astype(float)\n",
    "y_values = pd.to_numeric(southern_df['Cloudiness']).astype(float)\n",
    "# use lineregress to calculate a least-squares regression for two sets of measurements\n",
    "# https://docs.scipy.org/doc/scipy-0.16.1/reference/generated/scipy.stats.linregress.html\n",
    "(slope, intercept, rvalue,pvalue,sterr) = linregress(x_values, y_values)\n",
    "\n",
    "regression_values = x_values * slope + intercept\n",
    "\n",
    "plt.plot(x_values,y_values,'o',color='blue')\n",
    "plt.plot(x_values,regression_values,'r')\n",
    "\n",
    "plt.xlabel('Lat')\n",
    "plt.ylabel('Cloudiness')\n",
    "plt.title('Cloudiness vs Latitude - Southern Hemisphere')\n",
    "plt.show()\n",
    "pass"
   ]
  },
  {
   "cell_type": "markdown",
   "metadata": {},
   "source": [
    "####  Northern Hemisphere - Wind Speed (mph) vs. Latitude Linear Regression"
   ]
  },
  {
   "cell_type": "code",
   "execution_count": 18,
   "metadata": {},
   "outputs": [
    {
     "data": {
      "image/png": "[encoded data removed]",
      "text/plain": [
       "<Figure size 432x288 with 1 Axes>"
      ]
     },
     "metadata": {
      "needs_background": "light"
     },
     "output_type": "display_data"
    }
   ],
   "source": [
    "\n",
    "x_values = pd.to_numeric(northern_df['Lat']).astype(float)\n",
    "y_values = pd.to_numeric(northern_df['Wind Speed']).astype(float)\n",
    "# use lineregress to calculate a least-squares regression for two sets of measurements\n",
    "# https://docs.scipy.org/doc/scipy-0.16.1/reference/generated/scipy.stats.linregress.html\n",
    "(slope, intercept, rvalue,pvalue,sterr) = linregress(x_values, y_values)\n",
    "\n",
    "regression_values = x_values * slope + intercept\n",
    "\n",
    "plt.plot(x_values,y_values,'o',color='blue')\n",
    "plt.plot(x_values,regression_values,'r')\n",
    "\n",
    "plt.xlabel('Lat')\n",
    "plt.ylabel('Wind Speed')\n",
    "plt.title('Wind Speed vs Latitude - Northern Hemisphere')\n",
    "plt.show()\n",
    "pass"
   ]
  },
  {
   "cell_type": "markdown",
   "metadata": {},
   "source": [
    "####  Southern Hemisphere - Wind Speed (mph) vs. Latitude Linear Regression"
   ]
  },
  {
   "cell_type": "code",
   "execution_count": 19,
   "metadata": {},
   "outputs": [
    {
     "data": {
      "image/png": "[encoded data removed]",
      "text/plain": [
       "<Figure size 432x288 with 1 Axes>"
      ]
     },
     "metadata": {
      "needs_background": "light"
     },
     "output_type": "display_data"
    }
   ],
   "source": [
    "\n",
    "x_values = pd.to_numeric(southern_df['Lat']).astype(float)\n",
    "y_values = pd.to_numeric(southern_df['Wind Speed']).astype(float)\n",
    "# use lineregress to calculate a least-squares regression for two sets of measurements\n",
    "# https://docs.scipy.org/doc/scipy-0.16.1/reference/generated/scipy.stats.linregress.html\n",
    "(slope, intercept, rvalue,pvalue,sterr) = linregress(x_values, y_values)\n",
    "\n",
    "regression_values = x_values * slope + intercept\n",
    "\n",
    "plt.plot(x_values,y_values,'o',color='blue')\n",
    "plt.plot(x_values,regression_values,'r')\n",
    "\n",
    "plt.xlabel('Lat')\n",
    "plt.ylabel('Wind Speed')\n",
    "plt.title('Wind Speed vs Latitude - Southern Hemisphere')\n",
    "plt.show()\n",
    "pass"
   ]
  }
 ],
 "metadata": {
  "anaconda-cloud": {},
  "kernel_info": {
   "name": "python3"
  },
  "kernelspec": {
   "display_name": "Python [conda env:PythonData] *",
   "language": "python",
   "name": "conda-env-PythonData-py"
  },
  "language_info": {
   "codemirror_mode": {
    "name": "ipython",
    "version": 3
   },
   "file_extension": ".py",
   "mimetype": "text/x-python",
   "name": "python",
   "nbconvert_exporter": "python",
   "pygments_lexer": "ipython3",
   "version": "3.6.13"
  },
  "latex_envs": {
   "LaTeX_envs_menu_present": true,
   "autoclose": false,
   "autocomplete": true,
   "bibliofile": "biblio.bib",
   "cite_by": "apalike",
   "current_citInitial": 1,
   "eqLabelWithNumbers": true,
   "eqNumInitial": 1,
   "hotkeys": {
    "equation": "Ctrl-E",
    "itemize": "Ctrl-I"
   },
   "labels_anchors": false,
   "latex_user_defs": false,
   "report_style_numbering": false,
   "user_envs_cfg": false
  },
  "nteract": {
   "version": "0.12.3"
  }
 },
 "nbformat": 4,
 "nbformat_minor": 2
}
